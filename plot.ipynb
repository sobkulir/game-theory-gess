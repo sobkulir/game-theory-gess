{
 "cells": [
  {
   "cell_type": "code",
   "execution_count": null,
   "metadata": {},
   "outputs": [],
   "source": [
    "import pandas as pd\n",
    "import seaborn as sns\n",
    "import matplotlib.pyplot as plt\n",
    "\n",
    "DATA_CSV = './data.csv'\n",
    "\n",
    "data = pd.read_csv(\n",
    "            DATA_CSV,\n",
    "            delimiter=',',\n",
    "            dtype={\"gender\": str, \"move\": str, \"count\": int}\n",
    "        )"
   ]
  },
  {
   "cell_type": "code",
   "execution_count": null,
   "metadata": {},
   "outputs": [],
   "source": [
    "# By gender\n",
    "\n",
    "ax = sns.barplot(data=data, x=\"Move\", y=\"Count\", hue=\"Gender\")\n",
    "ax.set_title(\"First round moves by gender\")\n",
    "\n",
    "# Add percentages.\n",
    "totals = data.groupby([\"Gender\"]).sum()[\"Count\"].reindex([\"M\", \"F\"])\n",
    "for tot, p in zip(totals, ax.containers):\n",
    "    labels = [f'{(v.get_height()/tot)*100:0.2f}%' for v in p]\n",
    "    ax.bar_label(p, labels=labels, label_type='edge', fontsize=8, rotation=0, padding=3)\n",
    "\n",
    "ax.margins(y=0.2, x=0.1)\n",
    "\n",
    "plt.savefig('out/duo_by_gender.svg', bbox_inches='tight') \n"
   ]
  },
  {
   "cell_type": "code",
   "execution_count": null,
   "metadata": {},
   "outputs": [],
   "source": [
    "\n",
    "data_total = data.groupby([\"Move\"], as_index=False).sum()\n",
    "# Group by changes the index order for some reason so here we\n",
    "# change it back.\n",
    "data_total = data_total.reindex([0, 2, 1])\n",
    "ax = sns.barplot(data=data_total, x=\"Move\", y=\"Count\")\n",
    "\n",
    "# Add percentages.\n",
    "for c in ax.containers:\n",
    "    print(data_total.Count.sum())\n",
    "    labels = [f'{h/data_total.Count.sum()*100:0.2f}%' if (h := v.get_height()) > 0 else '' for v in c]\n",
    "    \n",
    "    ax.bar_label(c, labels=labels, label_type='edge', padding=3)\n",
    "\n",
    "ax.margins(y=0.2, x=0.1)\n",
    "\n",
    "ax.set_title(\"First round moves total\")\n",
    "plt.savefig('out/duo_total.svg', bbox_inches='tight') "
   ]
  }
 ],
 "metadata": {
  "interpreter": {
   "hash": "fd2a069e9781b29f453a61e5e957b425c8e76e838a52b3bf3368e7c824f708b5"
  },
  "kernelspec": {
   "display_name": "Python 3.10.4 ('venv': venv)",
   "language": "python",
   "name": "python3"
  },
  "language_info": {
   "codemirror_mode": {
    "name": "ipython",
    "version": 3
   },
   "file_extension": ".py",
   "mimetype": "text/x-python",
   "name": "python",
   "nbconvert_exporter": "python",
   "pygments_lexer": "ipython3",
   "version": "3.10.4"
  },
  "orig_nbformat": 4
 },
 "nbformat": 4,
 "nbformat_minor": 2
}
